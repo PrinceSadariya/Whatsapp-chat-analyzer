{
 "cells": [
  {
   "cell_type": "code",
   "execution_count": null,
   "id": "6c7f7d05",
   "metadata": {},
   "outputs": [],
   "source": [
    "import re\n",
    "import pandas as pd"
   ]
  },
  {
   "cell_type": "code",
   "execution_count": null,
   "id": "2bc047d4",
   "metadata": {},
   "outputs": [],
   "source": [
    "f = open(r\"D:\\file.txt\",'r',encoding='utf-8')"
   ]
  },
  {
   "cell_type": "code",
   "execution_count": null,
   "id": "87c8cd6e",
   "metadata": {},
   "outputs": [],
   "source": [
    "data = f.read()"
   ]
  },
  {
   "cell_type": "code",
   "execution_count": null,
   "id": "73c4cea4",
   "metadata": {},
   "outputs": [],
   "source": [
    "print(data)"
   ]
  },
  {
   "cell_type": "code",
   "execution_count": null,
   "id": "5ebdbdf9",
   "metadata": {},
   "outputs": [],
   "source": [
    "pattern = '\\d{1,2}/\\d{1,2}/\\d{2,4},\\s\\d{1,2}:\\d{2}\\s-\\s'"
   ]
  },
  {
   "cell_type": "code",
   "execution_count": null,
   "id": "c133f10c",
   "metadata": {},
   "outputs": [],
   "source": [
    "messages = re.split(pattern,data)[1:]"
   ]
  },
  {
   "cell_type": "code",
   "execution_count": null,
   "id": "c46b44f2",
   "metadata": {},
   "outputs": [],
   "source": [
    "messages"
   ]
  },
  {
   "cell_type": "code",
   "execution_count": null,
   "id": "edb2d375",
   "metadata": {},
   "outputs": [],
   "source": [
    "dates = re.findall(pattern,data)"
   ]
  },
  {
   "cell_type": "code",
   "execution_count": null,
   "id": "2e02e41a",
   "metadata": {},
   "outputs": [],
   "source": [
    "dates"
   ]
  },
  {
   "cell_type": "code",
   "execution_count": null,
   "id": "53be6b74",
   "metadata": {},
   "outputs": [],
   "source": [
    "df = pd.DataFrame({'user_message':messages,'message_date':dates})"
   ]
  },
  {
   "cell_type": "code",
   "execution_count": null,
   "id": "e0d1f7f2",
   "metadata": {},
   "outputs": [],
   "source": [
    "df"
   ]
  },
  {
   "cell_type": "code",
   "execution_count": null,
   "id": "86141e05",
   "metadata": {},
   "outputs": [],
   "source": [
    "df['message_date'] = pd.to_datetime(df['message_date'], format=\"%m/%d/%y, %H:%M - \")"
   ]
  },
  {
   "cell_type": "code",
   "execution_count": null,
   "id": "020e6f8a",
   "metadata": {},
   "outputs": [],
   "source": [
    "df"
   ]
  },
  {
   "cell_type": "code",
   "execution_count": null,
   "id": "f0f00e62",
   "metadata": {},
   "outputs": [],
   "source": [
    "df.rename(columns={'message_date':'date'},inplace=True)"
   ]
  },
  {
   "cell_type": "code",
   "execution_count": null,
   "id": "e81d7a84",
   "metadata": {},
   "outputs": [],
   "source": [
    "df.head()"
   ]
  },
  {
   "cell_type": "code",
   "execution_count": null,
   "id": "c3e860fe",
   "metadata": {},
   "outputs": [],
   "source": [
    "users = []\n",
    "for msg in df['user_message']:\n",
    "    match = re.search(r'^([^:]+):(.*)', msg)\n",
    "    if match:\n",
    "        name = match.group(1).strip()\n",
    "        users.append(name)\n",
    "    else:\n",
    "        users.append(\"Group\")"
   ]
  },
  {
   "cell_type": "code",
   "execution_count": null,
   "id": "faba1e9c",
   "metadata": {},
   "outputs": [],
   "source": [
    "messages = []\n",
    "for msg in df['user_message']:\n",
    "    match = re.search(r'^([^:]+):(.*)', msg)\n",
    "    if match:\n",
    "        cont = match.group(2).strip()\n",
    "        messages.append(cont)\n",
    "    else:\n",
    "        messages.append(msg)"
   ]
  },
  {
   "cell_type": "code",
   "execution_count": null,
   "id": "50e66923",
   "metadata": {},
   "outputs": [],
   "source": [
    "users"
   ]
  },
  {
   "cell_type": "code",
   "execution_count": null,
   "id": "8ba68e3e",
   "metadata": {},
   "outputs": [],
   "source": [
    "df['user'] = users\n",
    "df['message'] = messages"
   ]
  },
  {
   "cell_type": "code",
   "execution_count": null,
   "id": "587b8c56",
   "metadata": {},
   "outputs": [],
   "source": [
    "df.drop(columns=['user_message'],inplace=True)"
   ]
  },
  {
   "cell_type": "code",
   "execution_count": null,
   "id": "26aee1f3",
   "metadata": {},
   "outputs": [],
   "source": [
    "df"
   ]
  },
  {
   "cell_type": "code",
   "execution_count": null,
   "id": "a94644a3",
   "metadata": {},
   "outputs": [],
   "source": [
    "df['year'] = df['date'].dt.year"
   ]
  },
  {
   "cell_type": "code",
   "execution_count": null,
   "id": "7637c95e",
   "metadata": {},
   "outputs": [],
   "source": [
    "df['day'] = df['date'].dt.day"
   ]
  },
  {
   "cell_type": "code",
   "execution_count": null,
   "id": "debd9840",
   "metadata": {},
   "outputs": [],
   "source": [
    "df['month'] = df['date'].dt.month_name()"
   ]
  },
  {
   "cell_type": "code",
   "execution_count": null,
   "id": "905048a8",
   "metadata": {},
   "outputs": [],
   "source": [
    "df['hour'] = df['date'].dt.hour"
   ]
  },
  {
   "cell_type": "code",
   "execution_count": null,
   "id": "7e6ec7ec",
   "metadata": {},
   "outputs": [],
   "source": [
    "df['minute'] = df['date'].dt.minute"
   ]
  },
  {
   "cell_type": "code",
   "execution_count": null,
   "id": "faf58350",
   "metadata": {},
   "outputs": [],
   "source": [
    "df"
   ]
  },
  {
   "cell_type": "code",
   "execution_count": null,
   "id": "b955c120",
   "metadata": {},
   "outputs": [],
   "source": [
    "for msg in df['message']:\n",
    "    print(msg.wo)"
   ]
  },
  {
   "cell_type": "code",
   "execution_count": null,
   "id": "6da15887",
   "metadata": {},
   "outputs": [],
   "source": [
    "df[df['message'] == '<Media omitted>'].shape"
   ]
  },
  {
   "cell_type": "code",
   "execution_count": null,
   "id": "4b3782f6",
   "metadata": {},
   "outputs": [],
   "source": [
    "df[df['user'] == \"Kush Bhai 👬\"]"
   ]
  },
  {
   "cell_type": "code",
   "execution_count": null,
   "id": "43a132fd",
   "metadata": {},
   "outputs": [],
   "source": [
    "df.head(200)"
   ]
  },
  {
   "cell_type": "code",
   "execution_count": null,
   "id": "e75ffd5e",
   "metadata": {},
   "outputs": [],
   "source": [
    "from urlextract import URLExtract\n",
    "\n",
    "extractor = URLExtract()\n",
    "urls = extractor.find_urls(\"Hello dihhjf sefji www.google.com esf aef www.yahhooo.com\")\n",
    "urls"
   ]
  },
  {
   "cell_type": "code",
   "execution_count": null,
   "id": "b8569c1b",
   "metadata": {},
   "outputs": [],
   "source": [
    "!pip install urlextract"
   ]
  },
  {
   "cell_type": "code",
   "execution_count": null,
   "id": "c7b68eec",
   "metadata": {},
   "outputs": [],
   "source": [
    "df"
   ]
  },
  {
   "cell_type": "code",
   "execution_count": null,
   "id": "f1d7cf01",
   "metadata": {},
   "outputs": [],
   "source": []
  },
  {
   "cell_type": "code",
   "execution_count": null,
   "id": "7cd8d5fa",
   "metadata": {},
   "outputs": [],
   "source": [
    "import matplotlib.pyplot as plt"
   ]
  },
  {
   "cell_type": "code",
   "execution_count": null,
   "id": "d868f377",
   "metadata": {},
   "outputs": [],
   "source": [
    "x = df['user'].value_counts().head()"
   ]
  },
  {
   "cell_type": "code",
   "execution_count": null,
   "id": "2cd70a09",
   "metadata": {},
   "outputs": [],
   "source": [
    "x"
   ]
  },
  {
   "cell_type": "code",
   "execution_count": null,
   "id": "75177bb7",
   "metadata": {
    "collapsed": true
   },
   "outputs": [],
   "source": [
    "y = df['user'].value_counts().head(6)\n",
    "print(y)"
   ]
  },
  {
   "cell_type": "code",
   "execution_count": null,
   "id": "b86e57d4",
   "metadata": {},
   "outputs": [],
   "source": [
    "y[:5]"
   ]
  },
  {
   "cell_type": "code",
   "execution_count": null,
   "id": "11813f88",
   "metadata": {},
   "outputs": [],
   "source": [
    "for i,j in y.items():\n",
    "    if i == \"Dhulo\":\n",
    "        y.drop(i,inplace=True)\n",
    "        \n",
    "print(y)"
   ]
  },
  {
   "cell_type": "code",
   "execution_count": null,
   "id": "c583a062",
   "metadata": {},
   "outputs": [],
   "source": [
    "name = x.index\n",
    "count = x.values\n",
    "\n"
   ]
  },
  {
   "cell_type": "code",
   "execution_count": null,
   "id": "18516290",
   "metadata": {},
   "outputs": [],
   "source": [
    "plt.bar(name,count)\n",
    "plt.xticks(rotation=\"vertical\")\n",
    "plt.show()"
   ]
  },
  {
   "cell_type": "code",
   "execution_count": null,
   "id": "86f1f64b",
   "metadata": {},
   "outputs": [],
   "source": [
    "round((df['user'].value_counts()/df['message'].shape[0])*100,2).reset_index()"
   ]
  },
  {
   "cell_type": "code",
   "execution_count": null,
   "id": "98c9dd39",
   "metadata": {},
   "outputs": [],
   "source": [
    "round((df['user'].value_counts()/df['message'].shape[0])*100,2).reset_index().rename(columns={'index':'name','user':'percent'})"
   ]
  },
  {
   "cell_type": "code",
   "execution_count": null,
   "id": "c64aa11b",
   "metadata": {},
   "outputs": [],
   "source": [
    "round((df['user'].value_counts()/df['message'].shape[0])*100,2).reset_index().rename(columns={'index':'name','user':'percent'})"
   ]
  },
  {
   "cell_type": "code",
   "execution_count": null,
   "id": "1a8b3a2f",
   "metadata": {},
   "outputs": [],
   "source": []
  },
  {
   "cell_type": "code",
   "execution_count": null,
   "id": "84511589",
   "metadata": {},
   "outputs": [],
   "source": []
  },
  {
   "cell_type": "code",
   "execution_count": null,
   "id": "2643eec2",
   "metadata": {},
   "outputs": [],
   "source": [
    "temp = df[(df['user'] != 'Group') & (temp['message'] != '<Media omitted>') & (temp['message'] != 'This message was deleted')]"
   ]
  },
  {
   "cell_type": "code",
   "execution_count": null,
   "id": "50bcd100",
   "metadata": {},
   "outputs": [],
   "source": [
    "temp"
   ]
  },
  {
   "cell_type": "code",
   "execution_count": null,
   "id": "0044f1ff",
   "metadata": {},
   "outputs": [],
   "source": [
    "words = []\n",
    "for i in temp['message']:\n",
    "    words.extend(i.lower().split())"
   ]
  },
  {
   "cell_type": "code",
   "execution_count": null,
   "id": "f201e905",
   "metadata": {},
   "outputs": [],
   "source": [
    "from collections import Counter\n",
    " "
   ]
  },
  {
   "cell_type": "code",
   "execution_count": null,
   "id": "0347ca46",
   "metadata": {},
   "outputs": [],
   "source": [
    "!pip install emoji"
   ]
  },
  {
   "cell_type": "code",
   "execution_count": null,
   "id": "16d4f77f",
   "metadata": {},
   "outputs": [],
   "source": [
    "import emoji"
   ]
  },
  {
   "cell_type": "code",
   "execution_count": null,
   "id": "b9417594",
   "metadata": {},
   "outputs": [],
   "source": [
    "emojis = []\n",
    "\n",
    "for msg in df['message']:\n",
    "    emojis.extend([c for c in msg if c in emoji.UNICODE_EMOJI['en']])"
   ]
  },
  {
   "cell_type": "code",
   "execution_count": null,
   "id": "e0e04951",
   "metadata": {},
   "outputs": [],
   "source": [
    "timeline = df.groupby(['year','month']).count()['message'].reset_index()"
   ]
  },
  {
   "cell_type": "code",
   "execution_count": null,
   "id": "a54c23bb",
   "metadata": {},
   "outputs": [],
   "source": [
    "timeline"
   ]
  },
  {
   "cell_type": "code",
   "execution_count": null,
   "id": "d2047cd9",
   "metadata": {},
   "outputs": [],
   "source": [
    "time = []\n",
    "for i in range(timeline.shape[0]):\n",
    "    time.append(timeline['month'][i] + '-' + str(timeline['year'][i]))"
   ]
  },
  {
   "cell_type": "code",
   "execution_count": null,
   "id": "d96058a8",
   "metadata": {},
   "outputs": [],
   "source": [
    "time"
   ]
  },
  {
   "cell_type": "code",
   "execution_count": null,
   "id": "df547a85",
   "metadata": {},
   "outputs": [],
   "source": [
    "timeline['time'] = time"
   ]
  },
  {
   "cell_type": "code",
   "execution_count": null,
   "id": "a9774d44",
   "metadata": {},
   "outputs": [],
   "source": [
    "timeline"
   ]
  },
  {
   "cell_type": "code",
   "execution_count": null,
   "id": "df36cc87",
   "metadata": {},
   "outputs": [],
   "source": [
    "plt.plot(timeline['time'],timeline['message'])\n",
    "plt.xticks(rotation='vertical')\n",
    "plt.show()"
   ]
  },
  {
   "cell_type": "code",
   "execution_count": null,
   "id": "d4feeaef",
   "metadata": {},
   "outputs": [],
   "source": [
    "df"
   ]
  },
  {
   "cell_type": "code",
   "execution_count": null,
   "id": "884b4f23",
   "metadata": {},
   "outputs": [],
   "source": [
    "df['only_date'] = df['date'].dt.date"
   ]
  },
  {
   "cell_type": "code",
   "execution_count": null,
   "id": "6eab7619",
   "metadata": {},
   "outputs": [],
   "source": [
    "df"
   ]
  },
  {
   "cell_type": "code",
   "execution_count": null,
   "id": "1006f8f9",
   "metadata": {},
   "outputs": [],
   "source": [
    "daily_timeline = df.groupby('only_date').count()['message'].reset_index()"
   ]
  },
  {
   "cell_type": "code",
   "execution_count": null,
   "id": "a4a7a412",
   "metadata": {},
   "outputs": [],
   "source": [
    "plt.plot(daily_timeline['only_date'],daily_timeline['message'])"
   ]
  },
  {
   "cell_type": "code",
   "execution_count": null,
   "id": "fa2c37aa",
   "metadata": {},
   "outputs": [],
   "source": [
    "df['day_name'] = df['date'].dt.day_name()"
   ]
  },
  {
   "cell_type": "code",
   "execution_count": null,
   "id": "245f1994",
   "metadata": {},
   "outputs": [],
   "source": [
    "df"
   ]
  },
  {
   "cell_type": "code",
   "execution_count": null,
   "id": "988183c8",
   "metadata": {},
   "outputs": [],
   "source": [
    "df['day_name'].value_counts()"
   ]
  },
  {
   "cell_type": "code",
   "execution_count": null,
   "id": "a394c9f2",
   "metadata": {},
   "outputs": [],
   "source": [
    "period = []\n",
    "\n",
    "for hour in df['hour']:\n",
    "    if hour == 23:\n",
    "        period.append(str(hour) + \"-\" + str('00'))\n",
    "    elif hour == 0:\n",
    "        period.append(\"00-1\")\n",
    "    else:\n",
    "        period.append(str(hour)+'-'+str(hour+1))"
   ]
  },
  {
   "cell_type": "code",
   "execution_count": null,
   "id": "50468b43",
   "metadata": {},
   "outputs": [],
   "source": [
    "period"
   ]
  },
  {
   "cell_type": "code",
   "execution_count": null,
   "id": "ff5bc327",
   "metadata": {},
   "outputs": [],
   "source": [
    "df['period'] = period"
   ]
  },
  {
   "cell_type": "code",
   "execution_count": null,
   "id": "ed585d49",
   "metadata": {},
   "outputs": [],
   "source": [
    "df"
   ]
  },
  {
   "cell_type": "code",
   "execution_count": null,
   "id": "bacf8e22",
   "metadata": {},
   "outputs": [],
   "source": [
    "import seaborn as sns\n",
    "plt.figure(figsize=(20,6))\n",
    "sns.heatmap(df.pivot_table(index='day_name',columns='period',values='message',aggfunc='count').fillna(0))\n",
    "plt.yticks(rotation='horizontal')\n",
    "plt.show()"
   ]
  },
  {
   "cell_type": "code",
   "execution_count": null,
   "id": "15ba8284",
   "metadata": {},
   "outputs": [],
   "source": []
  }
 ],
 "metadata": {
  "kernelspec": {
   "display_name": "Python 3 (ipykernel)",
   "language": "python",
   "name": "python3"
  },
  "language_info": {
   "codemirror_mode": {
    "name": "ipython",
    "version": 3
   },
   "file_extension": ".py",
   "mimetype": "text/x-python",
   "name": "python",
   "nbconvert_exporter": "python",
   "pygments_lexer": "ipython3",
   "version": "3.10.0"
  }
 },
 "nbformat": 4,
 "nbformat_minor": 5
}
